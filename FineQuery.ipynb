{
 "cells": [
  {
   "cell_type": "code",
   "execution_count": 36,
   "id": "51dd3512",
   "metadata": {},
   "outputs": [],
   "source": [
    "import pandas as pd\n",
    "import numpy as np\n",
    "import sqlalchemy as db\n",
    "import os "
   ]
  },
  {
   "cell_type": "markdown",
   "id": "ed9da7a4",
   "metadata": {},
   "source": [
    "Connection to MySQL"
   ]
  },
  {
   "cell_type": "code",
   "execution_count": 37,
   "id": "5b3ebdb5",
   "metadata": {},
   "outputs": [
    {
     "name": "stdout",
     "output_type": "stream",
     "text": [
      "DB Name: PALB777\n"
     ]
    }
   ],
   "source": [
    "conn = pd.read_json('connection.json', typ='series')\n",
    "host = conn['host']\n",
    "user = conn['user']\n",
    "password = conn['password']\n",
    "port = conn['port']\n",
    "\n",
    "db_name = input('DB Name: ')\n",
    "engine = db.create_engine('mysql+pymysql://' + user + ':' + password + '@' + host + ':' + port + '/' + db_name)"
   ]
  },
  {
   "cell_type": "markdown",
   "id": "d0a6a366",
   "metadata": {},
   "source": [
    "Fine Query"
   ]
  },
  {
   "cell_type": "code",
   "execution_count": null,
   "id": "c5867a3f",
   "metadata": {},
   "outputs": [],
   "source": [
    "limit = 100_000\n",
    "offset = 0\n",
    "plane = 'rp7779'\n",
    "year = 2022\n",
    "df = []\n",
    "\n",
    "while True:\n",
    "    try:\n",
    "        data = pd.read_sql(f\"SELECT * FROM `{plane}-{year}` LIMIT {limit} OFFSET {offset}\", engine)\n",
    "        planeIDs = list(data['ID'].unique())\n",
    "        dates = list(data['Date'].unique())\n",
    "        minIndex = min(data['index'])\n",
    "        maxIndex = max(data['index'])\n",
    "        rm = list(data['RM'].unique())\n",
    "        acft = list(data['Plane'].unique())\n",
    "        data.to_parquet(f\"{db_name}/{plane}-{year}/{offset}_{offset + limit}.parquet\")\n",
    "        print(f\"ID: {planeIDs}, Dates: {dates}, IndexRange: ({minIndex, maxIndex})\")\n",
    "        print(f\"Aircraft Included: {acft}, Registration Marking: {rm}\")\n",
    "        print(f\"Index Counter: {offset} - {offset + limit}\")\n",
    "        print(\"-------------------------------------------------------------------\")\n",
    "        offset += limit\n",
    "    except Exception as e:\n",
    "        print(f\"AN ERROR OCCURED: {e}\")\n",
    "        break"
   ]
  },
  {
   "cell_type": "markdown",
   "id": "69ffe094",
   "metadata": {},
   "source": [
    "Reading Data"
   ]
  },
  {
   "cell_type": "code",
   "execution_count": 30,
   "id": "a939418c",
   "metadata": {},
   "outputs": [],
   "source": [
    "directory = 'C:/Users/Kyle Carlo C. Lasala/Desktop/PAL/repo/Predicting-Fuel-Consumption/PALB777/rp7778-2022'\n",
    "\n",
    "test = os.listdir(directory)"
   ]
  },
  {
   "cell_type": "code",
   "execution_count": 33,
   "id": "94a380d9",
   "metadata": {},
   "outputs": [
    {
     "data": {
      "text/plain": [
       "array(['0_100000.parquet', '10000000_10100000.parquet',\n",
       "       '1000000_1100000.parquet', '100000_200000.parquet',\n",
       "       '10100000_10200000.parquet', '10200000_10300000.parquet',\n",
       "       '10300000_10400000.parquet', '10400000_10500000.parquet',\n",
       "       '10500000_10600000.parquet', '10600000_10700000.parquet',\n",
       "       '10700000_10800000.parquet', '10800000_10900000.parquet',\n",
       "       '10900000_11000000.parquet', '11000000_11100000.parquet',\n",
       "       '1100000_1200000.parquet', '11100000_11200000.parquet',\n",
       "       '11200000_11300000.parquet', '11300000_11400000.parquet',\n",
       "       '11400000_11500000.parquet', '11500000_11600000.parquet',\n",
       "       '11600000_11700000.parquet', '11700000_11800000.parquet',\n",
       "       '11800000_11900000.parquet', '11900000_12000000.parquet',\n",
       "       '12000000_12100000.parquet', '1200000_1300000.parquet',\n",
       "       '12100000_12200000.parquet', '12200000_12300000.parquet',\n",
       "       '12300000_12400000.parquet', '12400000_12500000.parquet',\n",
       "       '12500000_12600000.parquet', '12600000_12700000.parquet',\n",
       "       '12700000_12800000.parquet', '12800000_12900000.parquet',\n",
       "       '12900000_13000000.parquet', '13000000_13100000.parquet',\n",
       "       '1300000_1400000.parquet', '13100000_13200000.parquet',\n",
       "       '13200000_13300000.parquet', '13300000_13400000.parquet',\n",
       "       '13400000_13500000.parquet', '13500000_13600000.parquet',\n",
       "       '13600000_13700000.parquet', '13700000_13800000.parquet',\n",
       "       '13800000_13900000.parquet', '13900000_14000000.parquet',\n",
       "       '14000000_14100000.parquet', '1400000_1500000.parquet',\n",
       "       '14100000_14200000.parquet', '14200000_14300000.parquet',\n",
       "       '14300000_14400000.parquet', '14400000_14500000.parquet',\n",
       "       '14500000_14600000.parquet', '14600000_14700000.parquet',\n",
       "       '14700000_14800000.parquet', '14800000_14900000.parquet',\n",
       "       '14900000_15000000.parquet', '15000000_15100000.parquet',\n",
       "       '1500000_1600000.parquet', '15100000_15200000.parquet',\n",
       "       '15200000_15300000.parquet', '15300000_15400000.parquet',\n",
       "       '15400000_15500000.parquet', '15500000_15600000.parquet',\n",
       "       '15600000_15700000.parquet', '15700000_15800000.parquet',\n",
       "       '15800000_15900000.parquet', '15900000_16000000.parquet',\n",
       "       '16000000_16100000.parquet', '1600000_1700000.parquet',\n",
       "       '16100000_16200000.parquet', '16200000_16300000.parquet',\n",
       "       '16300000_16400000.parquet', '16400000_16500000.parquet',\n",
       "       '16500000_16600000.parquet', '16600000_16700000.parquet',\n",
       "       '16700000_16800000.parquet', '16800000_16900000.parquet',\n",
       "       '16900000_17000000.parquet', '17000000_17100000.parquet',\n",
       "       '1700000_1800000.parquet', '17100000_17200000.parquet',\n",
       "       '17200000_17300000.parquet', '17300000_17400000.parquet',\n",
       "       '17400000_17500000.parquet', '17500000_17600000.parquet',\n",
       "       '17600000_17700000.parquet', '17700000_17800000.parquet',\n",
       "       '17800000_17900000.parquet', '17900000_18000000.parquet',\n",
       "       '18000000_18100000.parquet', '1800000_1900000.parquet',\n",
       "       '18100000_18200000.parquet', '18200000_18300000.parquet',\n",
       "       '18300000_18400000.parquet', '1900000_2000000.parquet',\n",
       "       '2000000_2100000.parquet', '200000_300000.parquet',\n",
       "       '2100000_2200000.parquet', '2200000_2300000.parquet',\n",
       "       '2300000_2400000.parquet', '2400000_2500000.parquet',\n",
       "       '2500000_2600000.parquet', '2600000_2700000.parquet',\n",
       "       '2700000_2800000.parquet', '2800000_2900000.parquet',\n",
       "       '2900000_3000000.parquet', '3000000_3100000.parquet',\n",
       "       '300000_400000.parquet', '3100000_3200000.parquet',\n",
       "       '3200000_3300000.parquet', '3300000_3400000.parquet',\n",
       "       '3400000_3500000.parquet', '3500000_3600000.parquet',\n",
       "       '3600000_3700000.parquet', '3700000_3800000.parquet',\n",
       "       '3800000_3900000.parquet', '3900000_4000000.parquet',\n",
       "       '4000000_4100000.parquet', '400000_500000.parquet',\n",
       "       '4100000_4200000.parquet', '4200000_4300000.parquet',\n",
       "       '4300000_4400000.parquet', '4400000_4500000.parquet',\n",
       "       '4500000_4600000.parquet', '4600000_4700000.parquet',\n",
       "       '4700000_4800000.parquet', '4800000_4900000.parquet',\n",
       "       '4900000_5000000.parquet', '5000000_5100000.parquet',\n",
       "       '500000_600000.parquet', '5100000_5200000.parquet',\n",
       "       '5200000_5300000.parquet', '5300000_5400000.parquet',\n",
       "       '5400000_5500000.parquet', '5500000_5600000.parquet',\n",
       "       '5600000_5700000.parquet', '5700000_5800000.parquet',\n",
       "       '5800000_5900000.parquet', '5900000_6000000.parquet',\n",
       "       '6000000_6100000.parquet', '600000_700000.parquet',\n",
       "       '6100000_6200000.parquet', '6200000_6300000.parquet',\n",
       "       '6300000_6400000.parquet', '6400000_6500000.parquet',\n",
       "       '6500000_6600000.parquet', '6600000_6700000.parquet',\n",
       "       '6700000_6800000.parquet', '6800000_6900000.parquet',\n",
       "       '6900000_7000000.parquet', '7000000_7100000.parquet',\n",
       "       '700000_800000.parquet', '7100000_7200000.parquet',\n",
       "       '7200000_7300000.parquet', '7300000_7400000.parquet',\n",
       "       '7400000_7500000.parquet', '7500000_7600000.parquet',\n",
       "       '7600000_7700000.parquet', '7700000_7800000.parquet',\n",
       "       '7800000_7900000.parquet', '7900000_8000000.parquet',\n",
       "       '8000000_8100000.parquet', '800000_900000.parquet',\n",
       "       '8100000_8200000.parquet', '8200000_8300000.parquet',\n",
       "       '8300000_8400000.parquet', '8400000_8500000.parquet',\n",
       "       '8500000_8600000.parquet', '8600000_8700000.parquet',\n",
       "       '8700000_8800000.parquet', '8800000_8900000.parquet',\n",
       "       '8900000_9000000.parquet', '9000000_9100000.parquet',\n",
       "       '900000_1000000.parquet', '9100000_9200000.parquet',\n",
       "       '9200000_9300000.parquet', '9300000_9400000.parquet',\n",
       "       '9400000_9500000.parquet', '9500000_9600000.parquet',\n",
       "       '9600000_9700000.parquet', '9700000_9800000.parquet',\n",
       "       '9800000_9900000.parquet', '9900000_10000000.parquet'],\n",
       "      dtype='<U25')"
      ]
     },
     "execution_count": 33,
     "metadata": {},
     "output_type": "execute_result"
    }
   ],
   "source": [
    "np.array(test)"
   ]
  },
  {
   "cell_type": "code",
   "execution_count": 35,
   "id": "0ab4bdbf",
   "metadata": {},
   "outputs": [
    {
     "data": {
      "text/plain": [
       "array(['0_100000.parquet', '10000000_10100000.parquet',\n",
       "       '1000000_1100000.parquet', '100000_200000.parquet',\n",
       "       '10100000_10200000.parquet', '10200000_10300000.parquet',\n",
       "       '10300000_10400000.parquet', '10400000_10500000.parquet',\n",
       "       '10500000_10600000.parquet', '10600000_10700000.parquet',\n",
       "       '10700000_10800000.parquet', '10800000_10900000.parquet',\n",
       "       '10900000_11000000.parquet', '11000000_11100000.parquet',\n",
       "       '1100000_1200000.parquet', '11100000_11200000.parquet',\n",
       "       '11200000_11300000.parquet', '11300000_11400000.parquet',\n",
       "       '11400000_11500000.parquet', '11500000_11600000.parquet',\n",
       "       '11600000_11700000.parquet', '11700000_11800000.parquet',\n",
       "       '11800000_11900000.parquet', '11900000_12000000.parquet',\n",
       "       '12000000_12100000.parquet', '1200000_1300000.parquet',\n",
       "       '12100000_12200000.parquet', '12200000_12300000.parquet',\n",
       "       '12300000_12400000.parquet', '12400000_12500000.parquet',\n",
       "       '12500000_12600000.parquet', '12600000_12700000.parquet',\n",
       "       '12700000_12800000.parquet', '12800000_12900000.parquet',\n",
       "       '12900000_13000000.parquet', '13000000_13100000.parquet',\n",
       "       '1300000_1400000.parquet', '13100000_13200000.parquet',\n",
       "       '13200000_13300000.parquet', '13300000_13400000.parquet',\n",
       "       '13400000_13500000.parquet', '13500000_13600000.parquet',\n",
       "       '13600000_13700000.parquet', '13700000_13800000.parquet',\n",
       "       '13800000_13900000.parquet', '13900000_14000000.parquet',\n",
       "       '14000000_14100000.parquet', '1400000_1500000.parquet',\n",
       "       '14100000_14200000.parquet', '14200000_14300000.parquet',\n",
       "       '14300000_14400000.parquet', '14400000_14500000.parquet',\n",
       "       '14500000_14600000.parquet', '14600000_14700000.parquet',\n",
       "       '14700000_14800000.parquet', '14800000_14900000.parquet',\n",
       "       '14900000_15000000.parquet', '15000000_15100000.parquet',\n",
       "       '1500000_1600000.parquet', '15100000_15200000.parquet',\n",
       "       '15200000_15300000.parquet', '15300000_15400000.parquet',\n",
       "       '15400000_15500000.parquet', '15500000_15600000.parquet',\n",
       "       '15600000_15700000.parquet', '15700000_15800000.parquet',\n",
       "       '15800000_15900000.parquet', '15900000_16000000.parquet',\n",
       "       '16000000_16100000.parquet', '1600000_1700000.parquet',\n",
       "       '16100000_16200000.parquet', '16200000_16300000.parquet',\n",
       "       '16300000_16400000.parquet', '16400000_16500000.parquet',\n",
       "       '16500000_16600000.parquet', '16600000_16700000.parquet',\n",
       "       '16700000_16800000.parquet', '16800000_16900000.parquet',\n",
       "       '16900000_17000000.parquet', '17000000_17100000.parquet',\n",
       "       '1700000_1800000.parquet', '17100000_17200000.parquet',\n",
       "       '17200000_17300000.parquet', '17300000_17400000.parquet',\n",
       "       '17400000_17500000.parquet', '17500000_17600000.parquet',\n",
       "       '17600000_17700000.parquet', '17700000_17800000.parquet',\n",
       "       '17800000_17900000.parquet', '17900000_18000000.parquet',\n",
       "       '18000000_18100000.parquet', '1800000_1900000.parquet',\n",
       "       '18100000_18200000.parquet', '18200000_18300000.parquet',\n",
       "       '18300000_18400000.parquet', '1900000_2000000.parquet',\n",
       "       '2000000_2100000.parquet', '200000_300000.parquet',\n",
       "       '2100000_2200000.parquet', '2200000_2300000.parquet',\n",
       "       '2300000_2400000.parquet', '2400000_2500000.parquet',\n",
       "       '2500000_2600000.parquet', '2600000_2700000.parquet',\n",
       "       '2700000_2800000.parquet', '2800000_2900000.parquet',\n",
       "       '2900000_3000000.parquet', '3000000_3100000.parquet',\n",
       "       '300000_400000.parquet', '3100000_3200000.parquet',\n",
       "       '3200000_3300000.parquet', '3300000_3400000.parquet',\n",
       "       '3400000_3500000.parquet', '3500000_3600000.parquet',\n",
       "       '3600000_3700000.parquet', '3700000_3800000.parquet',\n",
       "       '3800000_3900000.parquet', '3900000_4000000.parquet',\n",
       "       '4000000_4100000.parquet', '400000_500000.parquet',\n",
       "       '4100000_4200000.parquet', '4200000_4300000.parquet',\n",
       "       '4300000_4400000.parquet', '4400000_4500000.parquet',\n",
       "       '4500000_4600000.parquet', '4600000_4700000.parquet',\n",
       "       '4700000_4800000.parquet', '4800000_4900000.parquet',\n",
       "       '4900000_5000000.parquet', '5000000_5100000.parquet',\n",
       "       '500000_600000.parquet', '5100000_5200000.parquet',\n",
       "       '5200000_5300000.parquet', '5300000_5400000.parquet',\n",
       "       '5400000_5500000.parquet', '5500000_5600000.parquet',\n",
       "       '5600000_5700000.parquet', '5700000_5800000.parquet',\n",
       "       '5800000_5900000.parquet', '5900000_6000000.parquet',\n",
       "       '6000000_6100000.parquet', '600000_700000.parquet',\n",
       "       '6100000_6200000.parquet', '6200000_6300000.parquet',\n",
       "       '6300000_6400000.parquet', '6400000_6500000.parquet',\n",
       "       '6500000_6600000.parquet', '6600000_6700000.parquet',\n",
       "       '6700000_6800000.parquet', '6800000_6900000.parquet',\n",
       "       '6900000_7000000.parquet', '7000000_7100000.parquet',\n",
       "       '700000_800000.parquet', '7100000_7200000.parquet',\n",
       "       '7200000_7300000.parquet', '7300000_7400000.parquet',\n",
       "       '7400000_7500000.parquet', '7500000_7600000.parquet',\n",
       "       '7600000_7700000.parquet', '7700000_7800000.parquet',\n",
       "       '7800000_7900000.parquet', '7900000_8000000.parquet',\n",
       "       '8000000_8100000.parquet', '800000_900000.parquet',\n",
       "       '8100000_8200000.parquet', '8200000_8300000.parquet',\n",
       "       '8300000_8400000.parquet', '8400000_8500000.parquet',\n",
       "       '8500000_8600000.parquet', '8600000_8700000.parquet',\n",
       "       '8700000_8800000.parquet', '8800000_8900000.parquet',\n",
       "       '8900000_9000000.parquet', '9000000_9100000.parquet',\n",
       "       '900000_1000000.parquet', '9100000_9200000.parquet',\n",
       "       '9200000_9300000.parquet', '9300000_9400000.parquet',\n",
       "       '9400000_9500000.parquet', '9500000_9600000.parquet',\n",
       "       '9600000_9700000.parquet', '9700000_9800000.parquet',\n",
       "       '9800000_9900000.parquet', '9900000_10000000.parquet'],\n",
       "      dtype='<U25')"
      ]
     },
     "execution_count": 35,
     "metadata": {},
     "output_type": "execute_result"
    }
   ],
   "source": [
    "np.sort(test)"
   ]
  },
  {
   "cell_type": "code",
   "execution_count": null,
   "id": "efbb2632",
   "metadata": {},
   "outputs": [],
   "source": []
  }
 ],
 "metadata": {
  "kernelspec": {
   "display_name": "Python 3 (ipykernel)",
   "language": "python",
   "name": "python3"
  },
  "language_info": {
   "codemirror_mode": {
    "name": "ipython",
    "version": 3
   },
   "file_extension": ".py",
   "mimetype": "text/x-python",
   "name": "python",
   "nbconvert_exporter": "python",
   "pygments_lexer": "ipython3",
   "version": "3.11.4"
  }
 },
 "nbformat": 4,
 "nbformat_minor": 5
}
